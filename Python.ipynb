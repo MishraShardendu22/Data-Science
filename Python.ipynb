{
  "nbformat": 4,
  "nbformat_minor": 0,
  "metadata": {
    "colab": {
      "provenance": [],
      "authorship_tag": "ABX9TyNmtMJuDdUGs69xem570GsM",
      "include_colab_link": true
    },
    "kernelspec": {
      "name": "python3",
      "display_name": "Python 3"
    },
    "language_info": {
      "name": "python"
    }
  },
  "cells": [
    {
      "cell_type": "markdown",
      "metadata": {
        "id": "view-in-github",
        "colab_type": "text"
      },
      "source": [
        "<a href=\"https://colab.research.google.com/github/ShardenduMishra22/Python-DS/blob/main/Python.ipynb\" target=\"_parent\"><img src=\"https://colab.research.google.com/assets/colab-badge.svg\" alt=\"Open In Colab\"/></a>"
      ]
    },
    {
      "cell_type": "code",
      "execution_count": null,
      "metadata": {
        "id": "NC5ujAL1ia62"
      },
      "outputs": [],
      "source": [
        "# Learning and Revising Python"
      ]
    },
    {
      "cell_type": "code",
      "source": [
        "print(\"Hello, Python!\")  # This is a comment"
      ],
      "metadata": {
        "colab": {
          "base_uri": "https://localhost:8080/"
        },
        "id": "wGkI0yh4kcnp",
        "outputId": "3aedbb11-6c26-4158-a4a1-cee03170a355"
      },
      "execution_count": null,
      "outputs": [
        {
          "output_type": "stream",
          "name": "stdout",
          "text": [
            "Hello, Python!\n"
          ]
        }
      ]
    },
    {
      "cell_type": "code",
      "source": [
        "a = 10\n",
        "b = 4.5\n",
        "c = \"Python\"\n",
        "d = True\n",
        "\n",
        "print(a, b, c, d)"
      ],
      "metadata": {
        "colab": {
          "base_uri": "https://localhost:8080/"
        },
        "id": "2vWiNohZnAcY",
        "outputId": "39803f4b-6637-4e42-bb9d-7bd1e841cb52"
      },
      "execution_count": null,
      "outputs": [
        {
          "output_type": "stream",
          "name": "stdout",
          "text": [
            "10 4.5 Python True\n"
          ]
        }
      ]
    },
    {
      "cell_type": "code",
      "source": [
        "x, y = 5, 2\n",
        "print(x + y, x - y, x * y, x / y, x ** y, x % y)"
      ],
      "metadata": {
        "colab": {
          "base_uri": "https://localhost:8080/"
        },
        "id": "bz33LRTgnF8N",
        "outputId": "4f620cda-80dd-4cb4-8ef5-567e17795cea"
      },
      "execution_count": null,
      "outputs": [
        {
          "output_type": "stream",
          "name": "stdout",
          "text": [
            "7 3 10 2.5 25 1\n"
          ]
        }
      ]
    },
    {
      "cell_type": "code",
      "source": [
        "score = 85\n",
        "if score > 90:\n",
        "    print(\"Excellent\")\n",
        "elif score >= 60:\n",
        "    print(\"Passed\")\n",
        "else:\n",
        "    print(\"Try Again\")"
      ],
      "metadata": {
        "colab": {
          "base_uri": "https://localhost:8080/"
        },
        "id": "W0pooTAInIAl",
        "outputId": "19d643f6-ae65-4bd1-9bd4-6657daf3aaf7"
      },
      "execution_count": null,
      "outputs": [
        {
          "output_type": "stream",
          "name": "stdout",
          "text": [
            "Passed\n"
          ]
        }
      ]
    },
    {
      "cell_type": "code",
      "source": [
        "for i in range(3):\n",
        "    print(\"For loop:\", i)\n",
        "i = 0\n",
        "while i < 3:\n",
        "    print(\"While loop:\", i)\n",
        "    i += 1"
      ],
      "metadata": {
        "colab": {
          "base_uri": "https://localhost:8080/"
        },
        "id": "KdncO7Zxnslc",
        "outputId": "a80c0f16-4892-4b96-f630-f6b80d02fe00"
      },
      "execution_count": null,
      "outputs": [
        {
          "output_type": "stream",
          "name": "stdout",
          "text": [
            "For loop: 0\n",
            "For loop: 1\n",
            "For loop: 2\n",
            "While loop: 0\n",
            "While loop: 1\n",
            "While loop: 2\n"
          ]
        }
      ]
    },
    {
      "cell_type": "code",
      "source": [
        "squares = [n * n for n in range(5)]\n",
        "print(squares)"
      ],
      "metadata": {
        "colab": {
          "base_uri": "https://localhost:8080/"
        },
        "id": "hhhlDqUNADYR",
        "outputId": "4588ffe6-ae1c-4aff-9839-97c00c545f42"
      },
      "execution_count": null,
      "outputs": [
        {
          "output_type": "stream",
          "name": "stdout",
          "text": [
            "[0, 1, 4, 9, 16]\n"
          ]
        }
      ]
    },
    {
      "cell_type": "code",
      "source": [
        "my_list = [1, 2, 3]\n",
        "my_tuple = (4, 5, 6)\n",
        "my_dict = {\"a\": 1, \"b\": 2}\n",
        "my_set = {1, 2, 2, 3}\n",
        "print(my_list, my_tuple, my_dict, my_set)"
      ],
      "metadata": {
        "colab": {
          "base_uri": "https://localhost:8080/"
        },
        "id": "9AfIYtTiAH73",
        "outputId": "ddcdd4ac-cddd-4415-a5a1-36e1b6bc3d2b"
      },
      "execution_count": null,
      "outputs": [
        {
          "output_type": "stream",
          "name": "stdout",
          "text": [
            "[1, 2, 3] (4, 5, 6) {'a': 1, 'b': 2} {1, 2, 3}\n"
          ]
        }
      ]
    },
    {
      "cell_type": "code",
      "source": [
        "my_list.append(4)\n",
        "print(my_list)\n",
        "print(my_dict[\"a\"])\n",
        "my_set.add(5)\n",
        "print(my_set)"
      ],
      "metadata": {
        "colab": {
          "base_uri": "https://localhost:8080/"
        },
        "id": "wVFoZXAtFnX6",
        "outputId": "b078c5a1-dccd-4427-977a-eed2df1a0bd1"
      },
      "execution_count": null,
      "outputs": [
        {
          "output_type": "stream",
          "name": "stdout",
          "text": [
            "[1, 2, 3, 4]\n",
            "1\n",
            "{1, 2, 3, 5}\n"
          ]
        }
      ]
    },
    {
      "cell_type": "code",
      "source": [
        "def add(x, y=2):\n",
        "    return x + y\n",
        "print(add(3), add(3, 5))\n",
        "\n",
        "f = lambda x: x * x\n",
        "print(f(4))"
      ],
      "metadata": {
        "colab": {
          "base_uri": "https://localhost:8080/"
        },
        "id": "2JTsM-7sFs8Y",
        "outputId": "fcc799d2-8c16-4ade-9ff5-3037b947300d"
      },
      "execution_count": null,
      "outputs": [
        {
          "output_type": "stream",
          "name": "stdout",
          "text": [
            "5 8\n",
            "16\n"
          ]
        }
      ]
    },
    {
      "cell_type": "code",
      "source": [
        "import math\n",
        "print(math.sqrt(25))"
      ],
      "metadata": {
        "colab": {
          "base_uri": "https://localhost:8080/"
        },
        "id": "uLvFbl3oF71n",
        "outputId": "32612057-08c7-467e-ce9d-149b1f79678b"
      },
      "execution_count": null,
      "outputs": [
        {
          "output_type": "stream",
          "name": "stdout",
          "text": [
            "5.0\n"
          ]
        }
      ]
    },
    {
      "cell_type": "code",
      "source": [
        "try:\n",
        "    num = int(input(\"Enter a number: \"))\n",
        "    print(10 / num)\n",
        "except ZeroDivisionError:\n",
        "    print(\"Cannot divide by zero.\")\n",
        "except ValueError:\n",
        "    print(\"Not a number.\")\n",
        "finally:\n",
        "    print(\"Done.\")"
      ],
      "metadata": {
        "colab": {
          "base_uri": "https://localhost:8080/"
        },
        "id": "Z4Er6w-bF_Fg",
        "outputId": "059caba0-dbdd-4b86-f7aa-6c9112419139"
      },
      "execution_count": null,
      "outputs": [
        {
          "output_type": "stream",
          "name": "stdout",
          "text": [
            "Enter a number: 15\n",
            "0.6666666666666666\n",
            "Done.\n"
          ]
        }
      ]
    },
    {
      "cell_type": "code",
      "source": [
        "class Animal:\n",
        "    def speak(self):\n",
        "        print(\"Animal speaks\")\n",
        "class Dog(Animal):\n",
        "    def speak(self):\n",
        "        print(\"Dog barks\")\n",
        "obj = Dog()\n",
        "obj.speak()"
      ],
      "metadata": {
        "colab": {
          "base_uri": "https://localhost:8080/"
        },
        "id": "Zawz_j8tGLGy",
        "outputId": "389c1c8f-86de-4403-df24-20c6b027f832"
      },
      "execution_count": null,
      "outputs": [
        {
          "output_type": "stream",
          "name": "stdout",
          "text": [
            "Dog barks\n"
          ]
        }
      ]
    },
    {
      "cell_type": "code",
      "source": [
        "with open(\"sample.txt\", \"w\") as f:\n",
        "    f.write(\"Python file I/O\")\n",
        "with open(\"sample.txt\", \"r\") as f:\n",
        "    print(f.read())"
      ],
      "metadata": {
        "colab": {
          "base_uri": "https://localhost:8080/"
        },
        "id": "JkyiTYfHGSks",
        "outputId": "a48b48c9-fdd8-4aba-dae2-335335acb95d"
      },
      "execution_count": null,
      "outputs": [
        {
          "output_type": "stream",
          "name": "stdout",
          "text": [
            "Python file I/O\n"
          ]
        }
      ]
    },
    {
      "cell_type": "code",
      "source": [
        "class Person:\n",
        "    def __init__(self, name, age):\n",
        "        self.name = name\n",
        "        self.age = age\n",
        "\n",
        "p = Person(\"Alice\", 30)\n",
        "print(p.name)\n",
        "print(p.age)"
      ],
      "metadata": {
        "id": "gsT0b_FOGXgh",
        "colab": {
          "base_uri": "https://localhost:8080/"
        },
        "outputId": "e95d4486-8d8c-46a4-dea2-34e9aeb1cd69"
      },
      "execution_count": null,
      "outputs": [
        {
          "output_type": "stream",
          "name": "stdout",
          "text": [
            "Alice\n",
            "30\n"
          ]
        }
      ]
    },
    {
      "cell_type": "code",
      "source": [
        "class Phone:\n",
        "    def __init__(self, brand, model):\n",
        "        self.brand = brand\n",
        "        self.model = model\n",
        "\n",
        "my_phone = Phone(\"Apple\", \"iPhone 15\")\n",
        "print(my_phone.brand)  # Apple\n",
        "print(my_phone.model)  # iPhone 15"
      ],
      "metadata": {
        "id": "Knj_tIoUJ1Vz",
        "colab": {
          "base_uri": "https://localhost:8080/"
        },
        "outputId": "6ea55b0b-6c58-4736-ce80-09a9a95bdeea"
      },
      "execution_count": null,
      "outputs": [
        {
          "output_type": "stream",
          "name": "stdout",
          "text": [
            "Apple\n",
            "iPhone 15\n"
          ]
        }
      ]
    },
    {
      "cell_type": "code",
      "source": [
        "class Phone:\n",
        "    def __init__(self, brand, model):\n",
        "        self.brand = brand\n",
        "        self.model = model\n",
        "\n",
        "    def __str__(self):\n",
        "        return f\"{self.brand} {self.model}\"\n",
        "\n",
        "my_phone = Phone(\"Apple\", \"iPhone 15\")\n",
        "print(my_phone)   # Apple iPhone 15"
      ],
      "metadata": {
        "colab": {
          "base_uri": "https://localhost:8080/"
        },
        "id": "gGEgi6tpenAi",
        "outputId": "c9e94699-c9a2-4d5b-b493-ed932968b5d3"
      },
      "execution_count": null,
      "outputs": [
        {
          "output_type": "stream",
          "name": "stdout",
          "text": [
            "Apple iPhone 15\n"
          ]
        }
      ]
    },
    {
      "cell_type": "code",
      "source": [
        "class Phone:\n",
        "    def __init__(self, brand, model):\n",
        "        self.brand = brand\n",
        "        self.model = model\n",
        "\n",
        "    def __str__(self):\n",
        "        return f\"The brand is '{self.brand}' and the model is '{self.model}'\"\n",
        "\n",
        "    def __repr__(self):\n",
        "        return f\"Phone(brand='{self.brand}', model='{self.model}')\"\n",
        "\n",
        "my_phone = Phone(\"Apple\", \"iPhone 15\")\n",
        "\n",
        "print(my_phone)   # falls back to __repr__ if no __str__ (or you call repr())\n",
        "print(repr(my_phone))  # Phone(brand='Apple', model='iPhone 15')\n",
        "\n",
        "\n",
        "#  __str__: nice, human-friendly.\n",
        "#  __repr__: precise, developer-friendl"
      ],
      "metadata": {
        "colab": {
          "base_uri": "https://localhost:8080/"
        },
        "id": "YTxSiRSOet01",
        "outputId": "f3f81018-d0f4-443d-82d5-8fbb048f1790"
      },
      "execution_count": null,
      "outputs": [
        {
          "output_type": "stream",
          "name": "stdout",
          "text": [
            "The brand is 'Apple' and the model is 'iPhone 15'\n",
            "Phone(brand='Apple', model='iPhone 15')\n"
          ]
        }
      ]
    },
    {
      "cell_type": "code",
      "source": [
        "class Playlist:\n",
        "    def __init__(self, songs):\n",
        "        self.songs = songs\n",
        "\n",
        "    def __len__(self):\n",
        "        return len(self.songs)\n",
        "\n",
        "my_playlist = Playlist([\"Song1\", \"Song2\", \"Song3\"])\n",
        "print(len(my_playlist))  # 3"
      ],
      "metadata": {
        "colab": {
          "base_uri": "https://localhost:8080/"
        },
        "id": "A4N_Qc9Tewka",
        "outputId": "31f59de1-edc8-4e53-caf8-d990922be0d8"
      },
      "execution_count": null,
      "outputs": [
        {
          "output_type": "stream",
          "name": "stdout",
          "text": [
            "3\n"
          ]
        }
      ]
    },
    {
      "cell_type": "code",
      "source": [
        "class Shelf:\n",
        "    def __init__(self, books):\n",
        "        self.books = books\n",
        "\n",
        "    def __getitem__(self, index):\n",
        "        return self.books[index]\n",
        "\n",
        "s = Shelf([\"Book1\", \"Book2\", \"Book3\"])\n",
        "\n",
        "print(s[0])\n",
        "print(s[2])"
      ],
      "metadata": {
        "colab": {
          "base_uri": "https://localhost:8080/"
        },
        "id": "b19Zc3Q7fXTD",
        "outputId": "ab66d2c8-9f64-4996-c828-8c244f3dc561"
      },
      "execution_count": null,
      "outputs": [
        {
          "output_type": "stream",
          "name": "stdout",
          "text": [
            "Book1\n",
            "Book3\n"
          ]
        }
      ]
    },
    {
      "cell_type": "code",
      "source": [
        "class Shelf:\n",
        "    def __init__(self, books):\n",
        "        self.books = books\n",
        "\n",
        "    def __setitem__(self, index, value):\n",
        "        self.books[index] = value\n",
        "\n",
        "s = Shelf([\"Book1\", \"Book2\", \"Book3\"])\n",
        "s[1] = \"NewBook\"\n",
        "print(s.books)"
      ],
      "metadata": {
        "colab": {
          "base_uri": "https://localhost:8080/"
        },
        "id": "1_wzJ_44hZF0",
        "outputId": "ed5a71c9-6a63-4b8c-922b-f3ffe9445fe2"
      },
      "execution_count": null,
      "outputs": [
        {
          "output_type": "stream",
          "name": "stdout",
          "text": [
            "['Book1', 'NewBook', 'Book3']\n"
          ]
        }
      ]
    },
    {
      "cell_type": "code",
      "source": [
        "class Shelf:\n",
        "    def __init__(self, books):\n",
        "        self.books = books\n",
        "\n",
        "    def __delitem__(self, index):\n",
        "        del self.books[index]\n",
        "\n",
        "s = Shelf([\"Book1\", \"Book2\", \"Book3\"])\n",
        "del s[1]\n",
        "print(s.books)  # ['Book1', 'Book3']"
      ],
      "metadata": {
        "colab": {
          "base_uri": "https://localhost:8080/"
        },
        "id": "WQ7C62pMpilH",
        "outputId": "dee2298b-9e27-4201-fc09-fba7a6e9351a"
      },
      "execution_count": null,
      "outputs": [
        {
          "output_type": "stream",
          "name": "stdout",
          "text": [
            "['Book1', 'Book3']\n"
          ]
        }
      ]
    },
    {
      "cell_type": "code",
      "source": [
        "class Phone:\n",
        "    def __init__(self, brand):  # constructor\n",
        "        self.brand = brand\n",
        "    def __del__(self):  # destructor\n",
        "        print(f\"{self.brand} destroyed\")\n",
        "\n",
        "p = Phone(\"Apple\")\n",
        "del p"
      ],
      "metadata": {
        "colab": {
          "base_uri": "https://localhost:8080/"
        },
        "id": "0umSIF-hpjz2",
        "outputId": "4afe70fb-d0db-4e56-c024-420ca96c8949"
      },
      "execution_count": null,
      "outputs": [
        {
          "output_type": "stream",
          "name": "stdout",
          "text": [
            "Apple destroyed\n"
          ]
        }
      ]
    },
    {
      "cell_type": "code",
      "source": [
        "class Counter:\n",
        "    def __init__(self, n): self.n = n\n",
        "    def __iter__(self): self.current = 0; return self\n",
        "    def __next__(self):\n",
        "        if self.current < self.n:\n",
        "            self.current += 1\n",
        "            return self.current\n",
        "        raise StopIteration\n",
        "\n",
        "for x in Counter(3):\n",
        "    print(x)"
      ],
      "metadata": {
        "colab": {
          "base_uri": "https://localhost:8080/"
        },
        "id": "Grd6oTdEpxaf",
        "outputId": "906c8fa3-260c-4257-b7d0-0df8f03a082b"
      },
      "execution_count": null,
      "outputs": [
        {
          "output_type": "stream",
          "name": "stdout",
          "text": [
            "1\n",
            "2\n",
            "3\n"
          ]
        }
      ]
    },
    {
      "cell_type": "code",
      "source": [
        "class Vector:\n",
        "    def __init__(self, x, y): self.x, self.y = x, y\n",
        "    def __add__(self,b): return Vector(self.x+b.x, self.y+b.y)\n",
        "    def __sub__(self,b): return Vector(self.x-b.x, self.y-b.y)\n",
        "    def __mul__(self,b): return Vector(self.x*b.x, self.y*b.y)\n",
        "    def __truediv__(self,b): return Vector(self.x/b.x, self.y/b.y)\n",
        "    def __eq__(self,b): return self.x==b.x and self.y==b.y\n",
        "    def __lt__(self,b): return (self.x**2+self.y**2) < (b.x**2+b.y**2)\n",
        "    def __repr__(self): return f\"Vector({self.x},{self.y})\"\n",
        "\n",
        "v1, v2 = Vector(2,3), Vector(1,1)\n",
        "print(v1+v2)   # Vector(3,4)\n",
        "print(v1-v2)   # Vector(1,2)\n",
        "print(v1*v2)   # Vector(2,3)\n",
        "print(v1/v2)   # Vector(2.0,3.0)\n",
        "print(v1==v2)  # False\n",
        "print(v1>v2)   # True"
      ],
      "metadata": {
        "colab": {
          "base_uri": "https://localhost:8080/"
        },
        "id": "zHoTt0__p0Y7",
        "outputId": "da306aeb-e3ef-4a58-fe3a-470a8bbc1ab3"
      },
      "execution_count": null,
      "outputs": [
        {
          "output_type": "stream",
          "name": "stdout",
          "text": [
            "Vector(3,4)\n",
            "Vector(1,2)\n",
            "Vector(2,3)\n",
            "Vector(2.0,3.0)\n",
            "False\n",
            "True\n"
          ]
        }
      ]
    },
    {
      "cell_type": "code",
      "source": [
        "class Shelf:\n",
        "    def __init__(self, books): self.books = books\n",
        "    def __contains__(self, b): return b in self.books\n",
        "\n",
        "s = Shelf([\"A\",\"B\"])\n",
        "print(\"A\" in s)  # True"
      ],
      "metadata": {
        "colab": {
          "base_uri": "https://localhost:8080/"
        },
        "id": "UPKwmRF_zMtp",
        "outputId": "4a355c91-bde3-4106-823a-1bdd751f3019"
      },
      "execution_count": null,
      "outputs": [
        {
          "output_type": "stream",
          "name": "stdout",
          "text": [
            "True\n"
          ]
        }
      ]
    },
    {
      "cell_type": "code",
      "source": [
        "class Counter:\n",
        "    def __init__(self, n): self.n = n\n",
        "    def __iter__(self): self.c = 0; return self\n",
        "    def __next__(self):\n",
        "        if self.c < self.n: self.c+=1; return self.c\n",
        "        raise StopIteration\n",
        "\n",
        "for x in Counter(3):\n",
        "    print(x)  # 1, 2,\n",
        "\n",
        "# raise StopIteration is used in Python to signal that an iterator has no more items to yield."
      ],
      "metadata": {
        "colab": {
          "base_uri": "https://localhost:8080/"
        },
        "id": "YRals-w4zNO8",
        "outputId": "c52d65fb-47d7-4edc-8caf-635b225d4aa2"
      },
      "execution_count": null,
      "outputs": [
        {
          "output_type": "stream",
          "name": "stdout",
          "text": [
            "1\n",
            "2\n",
            "3\n"
          ]
        }
      ]
    },
    {
      "cell_type": "code",
      "source": [
        "class Greeter:\n",
        "    def __call__(self, name): return f\"Hello {name}\"\n",
        "\n",
        "g = Greeter()\n",
        "print(g(\"Shardendu\"))  # Hello Shardendu"
      ],
      "metadata": {
        "colab": {
          "base_uri": "https://localhost:8080/"
        },
        "id": "WW5JVGSEzXMb",
        "outputId": "e741379a-a270-4692-f63d-a300da44de69"
      },
      "execution_count": null,
      "outputs": [
        {
          "output_type": "stream",
          "name": "stdout",
          "text": [
            "Hello Shardendu\n"
          ]
        }
      ]
    },
    {
      "cell_type": "code",
      "source": [
        "class FileOpener:\n",
        "    def __init__(self, name): self.name=name\n",
        "    def __enter__(self): self.f=open(self.name,\"w\"); return self.f\n",
        "    def __exit__(self,a,b,c): self.f.close()\n",
        "\n",
        "with FileOpener(\"test.txt\") as f:\n",
        "    f.write(\"data\")\n"
      ],
      "metadata": {
        "id": "Xaj_99M-zrWX"
      },
      "execution_count": null,
      "outputs": []
    },
    {
      "cell_type": "code",
      "source": [
        "class Person:\n",
        "    def __init__(self): super().__setattr__('data',{})\n",
        "    def __getattr__(self,k): return self.data.get(k,\"Not Found\")\n",
        "    def __setattr__(self,k,v): self.data[k]=v\n",
        "    def __delattr__(self,k): self.data.pop(k,None)\n",
        "\n",
        "p = Person()\n",
        "p.age = 25\n",
        "print(p.age)   # 25\n",
        "del p.age\n",
        "print(p.age)   # Not Found\n"
      ],
      "metadata": {
        "colab": {
          "base_uri": "https://localhost:8080/"
        },
        "id": "8YNBn4OAzwjo",
        "outputId": "3b5d4390-2cc1-4d78-9e3e-99fb0a984565"
      },
      "execution_count": null,
      "outputs": [
        {
          "output_type": "stream",
          "name": "stdout",
          "text": [
            "25\n",
            "Not Found\n"
          ]
        }
      ]
    },
    {
      "cell_type": "code",
      "source": [
        "class Box:\n",
        "    def __init__(self, items): self.items=items\n",
        "    def __bool__(self): return len(self.items)>0\n",
        "\n",
        "print(bool(Box([])))      # False\n",
        "print(bool(Box([\"a\"])))   # True"
      ],
      "metadata": {
        "colab": {
          "base_uri": "https://localhost:8080/"
        },
        "id": "uG2xWtN406AW",
        "outputId": "bf76cfa1-8e09-48a6-a9b6-e3143f5945d5"
      },
      "execution_count": null,
      "outputs": [
        {
          "output_type": "stream",
          "name": "stdout",
          "text": [
            "False\n",
            "True\n"
          ]
        }
      ]
    },
    {
      "cell_type": "code",
      "source": [
        "class Seat:\n",
        "    def __init__(self, number): self.number=number\n",
        "    def __index__(self): return self.number\n",
        "\n",
        "s = Seat(2)\n",
        "print([10,20,30][s])  # 30"
      ],
      "metadata": {
        "colab": {
          "base_uri": "https://localhost:8080/"
        },
        "id": "guLQ9cjZ09xu",
        "outputId": "60f4f0bd-7bea-48d8-af68-d9753610aaf6"
      },
      "execution_count": null,
      "outputs": [
        {
          "output_type": "stream",
          "name": "stdout",
          "text": [
            "30\n"
          ]
        }
      ]
    },
    {
      "cell_type": "code",
      "source": [
        "class Ticket:\n",
        "    def __init__(self,id): self.id=id\n",
        "    def __hash__(self): return hash(self.id)\n",
        "    def __eq__(self,o): return self.id==o.id\n",
        "\n",
        "t1,t2 = Ticket(101), Ticket(101)\n",
        "print({t1,t2})  # only one, since equal IDs"
      ],
      "metadata": {
        "colab": {
          "base_uri": "https://localhost:8080/"
        },
        "id": "lb_fylOH071i",
        "outputId": "76ce748b-4043-4aca-d766-2b3437d24472"
      },
      "execution_count": null,
      "outputs": [
        {
          "output_type": "stream",
          "name": "stdout",
          "text": [
            "{<__main__.Ticket object at 0x7fd137988620>}\n"
          ]
        }
      ]
    },
    {
      "cell_type": "code",
      "source": [
        "import copy\n",
        "\n",
        "class Note:\n",
        "    def __init__(self, text):\n",
        "        self.text = text\n",
        "\n",
        "    def __copy__(self):\n",
        "        return type(self)(self.text)\n",
        "\n",
        "    def __deepcopy__(self, memo):\n",
        "        return type(self)(copy.deepcopy(self.text, memo))\n",
        "\n",
        "    def __repr__(self):\n",
        "        return f\"Note(text={self.text!r})\"\n",
        "\n",
        "\n",
        "n1 = Note(\"Hi\")\n",
        "n2 = copy.copy(n1)\n",
        "n3 = copy.deepcopy(n1)\n",
        "\n",
        "print(n1)\n",
        "print(n2)\n",
        "print(n3)"
      ],
      "metadata": {
        "colab": {
          "base_uri": "https://localhost:8080/"
        },
        "id": "g31GHR161CHO",
        "outputId": "605d2c6e-7abf-4363-bb5b-0d701645541f"
      },
      "execution_count": null,
      "outputs": [
        {
          "output_type": "stream",
          "name": "stdout",
          "text": [
            "Note(text='Hi')\n",
            "Note(text='Hi')\n",
            "Note(text='Hi')\n"
          ]
        }
      ]
    },
    {
      "cell_type": "code",
      "source": [
        "def fibonacci(n):\n",
        "    a, b = 0, 1\n",
        "    for _ in range(n):\n",
        "        yield a\n",
        "        a, b = b, a + b\n",
        "\n",
        "fib = fibonacci(5)\n",
        "for num in fib:\n",
        "    print(num)   # Outputs: 0 1 1 2 3\n"
      ],
      "metadata": {
        "colab": {
          "base_uri": "https://localhost:8080/"
        },
        "id": "tdmu9r-81Qut",
        "outputId": "f34740f0-472c-4e54-9f65-7de39d3a61f1"
      },
      "execution_count": null,
      "outputs": [
        {
          "output_type": "stream",
          "name": "stdout",
          "text": [
            "0\n",
            "1\n",
            "1\n",
            "2\n",
            "3\n"
          ]
        }
      ]
    },
    {
      "cell_type": "code",
      "source": [
        "import asyncio\n",
        "\n",
        "async def greet():\n",
        "    print(\"Hello...\")\n",
        "    await asyncio.sleep(1)\n",
        "    print(\"...World!\")\n",
        "\n",
        "async def main():\n",
        "    await greet()\n",
        "\n",
        "await main()"
      ],
      "metadata": {
        "colab": {
          "base_uri": "https://localhost:8080/"
        },
        "id": "CwU3rdZa207-",
        "outputId": "3ab9ec9e-ec15-4f45-eef8-528f8761e79f"
      },
      "execution_count": null,
      "outputs": [
        {
          "output_type": "stream",
          "name": "stdout",
          "text": [
            "Hello...\n",
            "...World!\n"
          ]
        }
      ]
    },
    {
      "cell_type": "code",
      "source": [
        "import threading\n",
        "import time\n",
        "\n",
        "def worker(name, delay):\n",
        "    print(f\"{name} started\")\n",
        "    time.sleep(delay)\n",
        "    print(f\"{name} finished after {delay} sec\")\n",
        "\n",
        "# create 3 threads\n",
        "threads = []\n",
        "for i in range(3):\n",
        "    t = threading.Thread(target=worker, args=(f\"Worker-{i+1}\", i+1))\n",
        "    threads.append(t)\n",
        "    t.start()\n",
        "\n",
        "print(\"Main thread is free to do other work...\")\n",
        "\n",
        "for t in threads:\n",
        "    t.join()\n",
        "\n",
        "print(\"All workers done, main thread finished\")"
      ],
      "metadata": {
        "colab": {
          "base_uri": "https://localhost:8080/"
        },
        "id": "XfzuB30k3iLP",
        "outputId": "91da50ea-36c7-415b-943a-6e341fbfbabd"
      },
      "execution_count": null,
      "outputs": [
        {
          "output_type": "stream",
          "name": "stdout",
          "text": [
            "Worker-1 started\n",
            "Worker-2 started\n",
            "Worker-3 started\n",
            "Main thread is free to do other work...\n",
            "Worker-1 finished after 1 sec\n",
            "Worker-2 finished after 2 sec\n",
            "Worker-3 finished after 3 sec\n",
            "All workers done, main thread finished\n"
          ]
        }
      ]
    },
    {
      "cell_type": "code",
      "source": [
        "class Rectangle:\n",
        "    def __init__(self, width, height):\n",
        "        self._width = width\n",
        "        self._height = height\n",
        "\n",
        "    @property\n",
        "    def width(self):\n",
        "        return self._width\n",
        "\n",
        "    @width.setter\n",
        "    def width(self, value):\n",
        "        if value <= 0:\n",
        "            raise ValueError(\"Width must be positive\")\n",
        "        self._width = value\n",
        "\n",
        "    @property\n",
        "    def height(self):\n",
        "        return self._height\n",
        "\n",
        "    @height.setter\n",
        "    def height(self, value):\n",
        "        if value <= 0:\n",
        "            raise ValueError(\"Height must be positive\")\n",
        "        self._height = value\n",
        "\n",
        "    @property\n",
        "    def area(self):\n",
        "        return self._width * self._height\n",
        "\n",
        "    @property\n",
        "    def perimeter(self):\n",
        "        return 2 * (self._width + self._height)\n",
        "\n",
        "# Usage\n",
        "r = Rectangle(5, 10)\n",
        "print(f\"Width: {r.width}, Height: {r.height}\")\n",
        "print(f\"Area: {r.area}, Perimeter: {r.perimeter}\")\n",
        "\n",
        "# Update properties safely\n",
        "r.width = 7\n",
        "r.height = 3\n",
        "print(f\"Updated Width: {r.width}, Height: {r.height}\")\n",
        "print(f\"Updated Area: {r.area}, Updated Perimeter: {r.perimeter}\")\n",
        "\n",
        "# Trying invalid value\n",
        "try:\n",
        "    r.width = -4\n",
        "except ValueError as e:\n",
        "    print(e)"
      ],
      "metadata": {
        "colab": {
          "base_uri": "https://localhost:8080/"
        },
        "id": "QQE0SDFFMGai",
        "outputId": "bdc1a27d-7251-460f-c7f8-2807a8f694f8"
      },
      "execution_count": null,
      "outputs": [
        {
          "output_type": "stream",
          "name": "stdout",
          "text": [
            "Width: 5, Height: 10\n",
            "Area: 50, Perimeter: 30\n",
            "Updated Width: 7, Height: 3\n",
            "Updated Area: 21, Updated Perimeter: 20\n",
            "Width must be positive\n"
          ]
        }
      ]
    },
    {
      "cell_type": "code",
      "source": [
        "def my_decorator(func):\n",
        "    def wrapper():\n",
        "        print(\"Before function call\")\n",
        "        func()\n",
        "        print(\"After function call\")\n",
        "    return wrapper\n",
        "\n",
        "@my_decorator\n",
        "def say_hello():\n",
        "    print(\"Hello!\")\n",
        "\n",
        "say_hello()"
      ],
      "metadata": {
        "colab": {
          "base_uri": "https://localhost:8080/"
        },
        "id": "GcR_gk0oP00R",
        "outputId": "5c5f8e12-ad5c-46a5-c84f-870be8b9a943"
      },
      "execution_count": null,
      "outputs": [
        {
          "output_type": "stream",
          "name": "stdout",
          "text": [
            "Before function call\n",
            "Hello!\n",
            "After function call\n"
          ]
        }
      ]
    },
    {
      "cell_type": "code",
      "source": [
        "def okayBro(func):\n",
        "    def wrapper(*args, **kwargs):\n",
        "        print(\"Before function call\")\n",
        "        result = func(*args, **kwargs)\n",
        "        print(\"After function call\")\n",
        "        return result\n",
        "    return wrapper\n",
        "\n",
        "@okayBro\n",
        "def greet(name):\n",
        "    print(f\"Hello, {name}\")\n",
        "\n",
        "@okayBro\n",
        "def add(a, b):\n",
        "    print(a + b)\n",
        "\n",
        "greet(\"Alice\")\n",
        "add(5, 10)"
      ],
      "metadata": {
        "colab": {
          "base_uri": "https://localhost:8080/"
        },
        "id": "jXw-ZRjAQ7fb",
        "outputId": "b275d405-a8cc-4ba9-c42b-6eb1b7099993"
      },
      "execution_count": null,
      "outputs": [
        {
          "output_type": "stream",
          "name": "stdout",
          "text": [
            "Before function call\n",
            "Hello, Alice\n",
            "After function call\n",
            "Before function call\n",
            "15\n",
            "After function call\n"
          ]
        }
      ]
    },
    {
      "cell_type": "code",
      "source": [
        "def decorator_with_args(func):\n",
        "    def wrapper(*args, **kwargs):\n",
        "        print(\"Before\")\n",
        "        result = func(*args, **kwargs)\n",
        "        print(\"After\")\n",
        "        return result\n",
        "    return wrapper\n",
        "\n",
        "@decorator_with_args\n",
        "def greet(name):\n",
        "    print(f\"Hello, {name}\")\n",
        "\n",
        "greet(\"Alice\")"
      ],
      "metadata": {
        "colab": {
          "base_uri": "https://localhost:8080/"
        },
        "id": "MTtlvhn_Uf5N",
        "outputId": "a869f79e-6fde-4e76-f6b6-3f154ef2f644"
      },
      "execution_count": null,
      "outputs": [
        {
          "output_type": "stream",
          "name": "stdout",
          "text": [
            "Before\n",
            "Hello, Alice\n",
            "After\n"
          ]
        }
      ]
    },
    {
      "cell_type": "code",
      "source": [
        "class BankAccount:\n",
        "    total_accounts = 0  # Class variable shared by all accounts\n",
        "\n",
        "    def __init__(self, owner, balance=0):\n",
        "        self.owner = owner        # Instance variable\n",
        "        self.balance = balance    # Instance variable\n",
        "        BankAccount.total_accounts += 1  # Increment shared count\n",
        "\n",
        "    @classmethod\n",
        "    def get_total_accounts(cls):\n",
        "        return cls.total_accounts\n",
        "\n",
        "    def deposit(self, amount):\n",
        "        self.balance += amount\n",
        "\n",
        "    def withdraw(self, amount):\n",
        "        if amount <= self.balance:\n",
        "            self.balance -= amount\n",
        "        else:\n",
        "            print(\"Insufficient funds\")\n",
        "\n",
        "acc1 = BankAccount(\"Alice\", 100)\n",
        "acc2 = BankAccount(\"Bob\", 200)\n",
        "\n",
        "print(acc1.balance)             # 100\n",
        "print(acc2.balance)             # 200\n",
        "\n",
        "print(BankAccount.get_total_accounts())  # 2\n",
        "print(acc1.get_total_accounts())         # 2"
      ],
      "metadata": {
        "colab": {
          "base_uri": "https://localhost:8080/"
        },
        "id": "N8WEa4KcX9ot",
        "outputId": "3959d1a4-5d00-4069-c044-54cb7d48d9e2"
      },
      "execution_count": null,
      "outputs": [
        {
          "output_type": "stream",
          "name": "stdout",
          "text": [
            "100\n",
            "200\n",
            "2\n",
            "2\n"
          ]
        }
      ]
    },
    {
      "cell_type": "code",
      "source": [
        "class Animal:\n",
        "    def speak(self):\n",
        "        print(\"Animal speaks\")\n",
        "\n",
        "class Dog(Animal):\n",
        "    def speak(self):\n",
        "        print(\"Dog barks\")\n",
        "\n",
        "dog = Dog()\n",
        "dog.speak()\n",
        "\n",
        "def animal_sound(animal):\n",
        "    animal.speak()\n",
        "\n",
        "animal_sound(Animal())  # Animal speaks\n",
        "animal_sound(Dog())     # Dog barks"
      ],
      "metadata": {
        "colab": {
          "base_uri": "https://localhost:8080/"
        },
        "id": "DpdEG8oDjNK1",
        "outputId": "29846277-41f5-4579-afe7-e38abfbca5c3"
      },
      "execution_count": null,
      "outputs": [
        {
          "output_type": "stream",
          "name": "stdout",
          "text": [
            "Dog barks\n",
            "Animal speaks\n",
            "Dog barks\n"
          ]
        }
      ]
    },
    {
      "cell_type": "code",
      "source": [
        "class Person:\n",
        "    def __init__(self, name):\n",
        "        self._name = name       # Protected\n",
        "        self.__age = 30         # Private\n",
        "\n",
        "p = Person(\"Alice\")\n",
        "print(p._name)       # Accessible but conventionally protected\n",
        "# print(p.__age)     # Error: private attribute\n",
        "print(p._Person__age)  # Access private variable via name mangling"
      ],
      "metadata": {
        "colab": {
          "base_uri": "https://localhost:8080/"
        },
        "id": "wL848j9ijO_G",
        "outputId": "06fcc94e-0be0-415b-903f-b6a145d04905"
      },
      "execution_count": null,
      "outputs": [
        {
          "output_type": "stream",
          "name": "stdout",
          "text": [
            "Alice\n",
            "30\n"
          ]
        }
      ]
    },
    {
      "cell_type": "code",
      "source": [
        "class Flyer:\n",
        "    def fly(self):\n",
        "        print(\"Flying\")\n",
        "\n",
        "class Swimmer:\n",
        "    def swim(self):\n",
        "        print(\"Swimming\")\n",
        "\n",
        "class Duck(Flyer, Swimmer):\n",
        "    pass\n",
        "\n",
        "d = Duck()\n",
        "d.fly()   # Flying\n",
        "d.swim()  # Swimming"
      ],
      "metadata": {
        "colab": {
          "base_uri": "https://localhost:8080/"
        },
        "id": "dOXzBsAgmx0j",
        "outputId": "e9a9f141-9ca7-409f-b2f2-008cc516fd6a"
      },
      "execution_count": null,
      "outputs": [
        {
          "output_type": "stream",
          "name": "stdout",
          "text": [
            "Flying\n",
            "Swimming\n"
          ]
        }
      ]
    },
    {
      "cell_type": "code",
      "source": [
        "class A:\n",
        "    def do(self):\n",
        "        print(\"A\")\n",
        "\n",
        "class B(A):\n",
        "    def do(self):\n",
        "        print(\"B\")\n",
        "\n",
        "class C(A):\n",
        "    def do(self):\n",
        "        print(\"C\")\n",
        "\n",
        "class D(B, C):\n",
        "    pass\n",
        "\n",
        "d = D()\n",
        "d.do()\n",
        "print(D.__mro__)\n",
        "\n",
        "# MRO follows the C3 linearization algorithm to find the method order.\n",
        "# Method Resolution Order (MRO)\n",
        "# When there are multiple parent classes with overlapping methods, Python uses MRO to determine which method to call.\n",
        "# You can see the MRO using ClassName.__mro__ or help(ClassName)."
      ],
      "metadata": {
        "colab": {
          "base_uri": "https://localhost:8080/"
        },
        "id": "td0WmY2TmzCq",
        "outputId": "010582c8-478c-48ee-962f-1ae33d6b5281"
      },
      "execution_count": null,
      "outputs": [
        {
          "output_type": "stream",
          "name": "stdout",
          "text": [
            "B\n",
            "(<class '__main__.D'>, <class '__main__.B'>, <class '__main__.C'>, <class '__main__.A'>, <class 'object'>)\n"
          ]
        }
      ]
    },
    {
      "cell_type": "code",
      "source": [
        "class Descriptor:\n",
        "    def __init__(self):\n",
        "        self.value = None\n",
        "\n",
        "    def __get__(self, instance, owner):\n",
        "        print(\"Getting value\")\n",
        "        return self.value\n",
        "\n",
        "    def __set__(self, instance, value):\n",
        "        print(\"Setting value\")\n",
        "        self.value = value\n",
        "\n",
        "class MyClass:\n",
        "    attr = Descriptor()\n",
        "\n",
        "obj = MyClass()\n",
        "obj.attr = 100       # Calls __set__\n",
        "print(obj.attr)      # Calls __get__"
      ],
      "metadata": {
        "colab": {
          "base_uri": "https://localhost:8080/"
        },
        "id": "xyjyc5KYqjdn",
        "outputId": "385e6d5c-1f94-4e2e-d69b-649d35986ccb"
      },
      "execution_count": null,
      "outputs": [
        {
          "output_type": "stream",
          "name": "stdout",
          "text": [
            "Setting value\n",
            "Getting value\n",
            "100\n"
          ]
        }
      ]
    },
    {
      "cell_type": "code",
      "source": [
        "class Meta(type):\n",
        "    def __new__(cls, name, bases, attrs):\n",
        "        print(f\"Creating class {name}\")\n",
        "        attrs['class_id'] = name.upper()\n",
        "        return super().__new__(cls, name, bases, attrs)\n",
        "\n",
        "class MyClass(metaclass=Meta):\n",
        "    pass\n",
        "\n",
        "print(MyClass.class_id)  # Outputs: MYCLASS"
      ],
      "metadata": {
        "colab": {
          "base_uri": "https://localhost:8080/"
        },
        "id": "GwRvDcF7ru8D",
        "outputId": "7441b6ff-ca4b-4290-d2ac-5e61741f4b8a"
      },
      "execution_count": null,
      "outputs": [
        {
          "output_type": "stream",
          "name": "stdout",
          "text": [
            "Creating class MyClass\n",
            "MYCLASS\n"
          ]
        }
      ]
    },
    {
      "cell_type": "code",
      "source": [
        "def accumulator():\n",
        "    total = 0\n",
        "    while True:\n",
        "        value = yield total\n",
        "        if value is None:\n",
        "            break\n",
        "        total += value\n",
        "\n",
        "gen = accumulator()\n",
        "print(next(gen))       # Starts generator, output 0\n",
        "print(gen.send(10))    # Add 10, output 10\n",
        "print(gen.send(5))     # Add 5, output 15\n",
        "# gen.send(None)         # Stops generator"
      ],
      "metadata": {
        "colab": {
          "base_uri": "https://localhost:8080/"
        },
        "id": "MlucTBSYscle",
        "outputId": "2747d9fd-8f8b-4516-b237-2b22f36a2dbe"
      },
      "execution_count": null,
      "outputs": [
        {
          "output_type": "stream",
          "name": "stdout",
          "text": [
            "0\n",
            "10\n",
            "15\n"
          ]
        }
      ]
    },
    {
      "cell_type": "markdown",
      "source": [
        "# Advanced Python Concepts Notebook\n",
        "\n",
        "## 1. Metaclasses\n",
        "\n",
        "```python\n",
        "class Meta(type):\n",
        "    def __new__(cls, name, bases, attrs):\n",
        "        print(f\"Creating class {name}\")\n",
        "        attrs['class_id'] = name.upper()\n",
        "        return super().__new__(cls, name, bases, attrs)\n",
        "\n",
        "class MyClass(metaclass=Meta):\n",
        "    pass\n",
        "\n",
        "print(MyClass.class_id)\n",
        "```\n",
        "\n",
        "## Explanation\n",
        "\n",
        "- Metaclasses define how classes are created.\n",
        "- Here, a class attribute `class_id` is added automatically.\n",
        "\n",
        "***\n",
        "\n",
        "## 2. Generators with `send()` and `throw()`\n",
        "\n",
        "```python\n",
        "def accumulator():\n",
        "    total = 0\n",
        "    while True:\n",
        "        value = yield total\n",
        "        if value is None:\n",
        "            break\n",
        "        total += value\n",
        "\n",
        "gen = accumulator()\n",
        "print(next(gen))\n",
        "print(gen.send(10))\n",
        "print(gen.send(5))\n",
        "gen.send(None)\n",
        "```\n",
        "\n",
        "## Explanation\n",
        "\n",
        "- `send()` sends data into the generator.\n",
        "- You can control exception flow with `throw()` (try it yourself).\n",
        "\n",
        "***\n",
        "\n",
        "## 3. Global Interpreter Lock (GIL) Concept\n",
        "\n",
        "```markdown\n",
        "The GIL allows only one thread to execute Python bytecode at a time in CPython.\n",
        "This means multithreading is limited for CPU-bound tasks but effective for I/O-bound operations.\n",
        "Use multiprocessing or other methods for true parallel CPU execution.\n",
        "```\n",
        "\n",
        "***\n",
        "\n",
        "## 4. Memory Management and Garbage Collection\n",
        "\n",
        "```python\n",
        "import gc\n",
        "\n",
        "print(\"GC enabled?\", gc.isenabled())\n",
        "print(\"Explicitly running GC...\")\n",
        "gc.collect()\n",
        "```\n",
        "\n",
        "## Explanation\n",
        "\n",
        "- Python uses reference counting plus cyclic GC.\n",
        "- You can manually control garbage collection with the `gc` module."
      ],
      "metadata": {
        "id": "t-gMtYz33KXz"
      }
    },
    {
      "cell_type": "code",
      "source": [],
      "metadata": {
        "id": "MeXTsxKMwJbb"
      },
      "execution_count": null,
      "outputs": []
    }
  ]
}